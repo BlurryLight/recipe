{
 "cells": [
  {
   "cell_type": "code",
   "execution_count": 2,
   "metadata": {},
   "outputs": [
    {
     "name": "stdout",
     "output_type": "stream",
     "text": [
      "8:I can't finish the test.\n",
      "12:the symbol '*' is represented as start.\n",
      "15:You are the best is mean you are the no. 1.\n",
      "16:The world <Happy> is the same with \"glad\".\n",
      "18:google is the best tools for search keyword.\n"
     ]
    }
   ],
   "source": [
    "!grep -n 'the' regular_express.txt"
   ]
  },
  {
   "cell_type": "code",
   "execution_count": 20,
   "metadata": {},
   "outputs": [
    {
     "name": "stdout",
     "output_type": "stream",
     "text": [
      "\u001b[0m\u001b[32m8\u001b[0m:I can't finish \u001b[0m\u001b[1m\u001b[31mthe\u001b[0m test.\n",
      "\u001b[0m\u001b[32m12\u001b[0m:\u001b[0m\u001b[1m\u001b[31mthe\u001b[0m symbol '*' is represented as start.\n",
      "\u001b[0m\u001b[32m15\u001b[0m:You are \u001b[0m\u001b[1m\u001b[31mthe\u001b[0m best is mean you are \u001b[0m\u001b[1m\u001b[31mthe\u001b[0m no. 1.\n",
      "\u001b[0m\u001b[32m16\u001b[0m:The world <Happy> is \u001b[0m\u001b[1m\u001b[31mthe\u001b[0m same with \"glad\".\n",
      "\u001b[0m\u001b[32m18\u001b[0m:google is \u001b[0m\u001b[1m\u001b[31mthe\u001b[0m best tools for search keyword.\n"
     ]
    }
   ],
   "source": [
    "!rg -n 'the' regular_express.txt"
   ]
  },
  {
   "cell_type": "code",
   "execution_count": 3,
   "metadata": {},
   "outputs": [
    {
     "name": "stdout",
     "output_type": "stream",
     "text": [
      "1:\"Open Source\" is a good mechanism to develop programs.\n",
      "2:apple is my favorite food.\n",
      "3:Football game is not use feet only.\n",
      "4:this dress doesn't fit me.\n",
      "5:However, this dress is about $ 3183 dollars.\n",
      "6:GNU is free air not free beer.\n",
      "7:Her hair is very beauty.\n",
      "9:Oh! The soup taste good.\n",
      "10:motorcycle is cheap than car.\n",
      "11:This window is clear.\n",
      "13:Oh!\tMy god!\n",
      "14:The gd software is a library for drafting programs.\n",
      "17:I like dog.\n",
      "19:goooooogle yes!\n",
      "20:go! go! Let's go.\n",
      "21:# I am VBird\n",
      "22:\n"
     ]
    }
   ],
   "source": [
    "# 不包含the的句子\n",
    "!grep -vn 'the' regular_express.txt"
   ]
  },
  {
   "cell_type": "code",
   "execution_count": 21,
   "metadata": {},
   "outputs": [
    {
     "name": "stdout",
     "output_type": "stream",
     "text": [
      "\u001b[0m\u001b[32m1\u001b[0m:\"Open Source\" is a good mechanism to develop programs.\n",
      "\u001b[0m\u001b[32m2\u001b[0m:apple is my favorite food.\n",
      "\u001b[0m\u001b[32m3\u001b[0m:Football game is not use feet only.\n",
      "\u001b[0m\u001b[32m4\u001b[0m:this dress doesn't fit me.\n",
      "\u001b[0m\u001b[32m5\u001b[0m:However, this dress is about $ 3183 dollars.\n",
      "\u001b[0m\u001b[32m6\u001b[0m:GNU is free air not free beer.\n",
      "\u001b[0m\u001b[32m7\u001b[0m:Her hair is very beauty.\n",
      "\u001b[0m\u001b[32m9\u001b[0m:Oh! The soup taste good.\n",
      "\u001b[0m\u001b[32m10\u001b[0m:motorcycle is cheap than car.\n",
      "\u001b[0m\u001b[32m11\u001b[0m:This window is clear.\n",
      "\u001b[0m\u001b[32m13\u001b[0m:Oh!\tMy god!\n",
      "\u001b[0m\u001b[32m14\u001b[0m:The gd software is a library for drafting programs.\n",
      "\u001b[0m\u001b[32m17\u001b[0m:I like dog.\n",
      "\u001b[0m\u001b[32m19\u001b[0m:goooooogle yes!\n",
      "\u001b[0m\u001b[32m20\u001b[0m:go! go! Let's go.\n",
      "\u001b[0m\u001b[32m21\u001b[0m:# I am VBird\n",
      "\u001b[0m\u001b[32m22\u001b[0m:\n"
     ]
    }
   ],
   "source": [
    "!rg -vn 'the' regular_express.txt"
   ]
  },
  {
   "cell_type": "code",
   "execution_count": 4,
   "metadata": {},
   "outputs": [
    {
     "name": "stdout",
     "output_type": "stream",
     "text": [
      "8:I can't finish the test.\n",
      "9:Oh! The soup taste good.\n"
     ]
    }
   ],
   "source": [
    "# grep t[ae]st 允许tast或者test. []选取其中的一个字符匹配\n",
    "!grep -n 't[ae]st' regular_express.txt "
   ]
  },
  {
   "cell_type": "code",
   "execution_count": 22,
   "metadata": {},
   "outputs": [
    {
     "name": "stdout",
     "output_type": "stream",
     "text": [
      "\u001b[0m\u001b[32m8\u001b[0m:I can't finish the \u001b[0m\u001b[1m\u001b[31mtest\u001b[0m.\n",
      "\u001b[0m\u001b[32m9\u001b[0m:Oh! The soup \u001b[0m\u001b[1m\u001b[31mtast\u001b[0me good.\n"
     ]
    }
   ],
   "source": [
    "\n",
    "!rg -n 't[ae]st' regular_express.txt "
   ]
  },
  {
   "cell_type": "code",
   "execution_count": 5,
   "metadata": {},
   "outputs": [
    {
     "name": "stdout",
     "output_type": "stream",
     "text": [
      "2:apple is my favorite food.\n",
      "3:Football game is not use feet only.\n",
      "18:google is the best tools for search keyword.\n",
      "19:goooooogle yes!\n"
     ]
    }
   ],
   "source": [
    "# 搜索两个oo，但是前面不能为g字符。\n",
    "# goooogle可以通过是因为g ooo oogle这种可以通过匹配\n",
    "!grep -n '[^g]oo' regular_express.txt"
   ]
  },
  {
   "cell_type": "code",
   "execution_count": 23,
   "metadata": {},
   "outputs": [
    {
     "name": "stdout",
     "output_type": "stream",
     "text": [
      "\u001b[0m\u001b[32m2\u001b[0m:apple is my favorite \u001b[0m\u001b[1m\u001b[31mfoo\u001b[0md.\n",
      "\u001b[0m\u001b[32m3\u001b[0m:\u001b[0m\u001b[1m\u001b[31mFoo\u001b[0mtball game is not use feet only.\n",
      "\u001b[0m\u001b[32m18\u001b[0m:google is the best \u001b[0m\u001b[1m\u001b[31mtoo\u001b[0mls for search keyword.\n",
      "\u001b[0m\u001b[32m19\u001b[0m:g\u001b[0m\u001b[1m\u001b[31moooooo\u001b[0mgle yes!\n"
     ]
    }
   ],
   "source": [
    "\n",
    "!rg -n '[^g]oo' regular_express.txt"
   ]
  },
  {
   "cell_type": "code",
   "execution_count": 6,
   "metadata": {},
   "outputs": [
    {
     "name": "stdout",
     "output_type": "stream",
     "text": [
      "3:Football game is not use feet only.\n",
      "3:Football game is not use feet only.\n"
     ]
    }
   ],
   "source": [
    "# 禁止oo前出现小写字母\n",
    "!grep -n '[^a-z]oo' regular_express.txt\n",
    "!grep -n '[^[:lower:]]oo' regular_express.txt"
   ]
  },
  {
   "cell_type": "code",
   "execution_count": 24,
   "metadata": {},
   "outputs": [
    {
     "name": "stdout",
     "output_type": "stream",
     "text": [
      "\u001b[0m\u001b[32m3\u001b[0m:\u001b[0m\u001b[1m\u001b[31mFoo\u001b[0mtball game is not use feet only.\n",
      "\u001b[0m\u001b[32m3\u001b[0m:\u001b[0m\u001b[1m\u001b[31mFoo\u001b[0mtball game is not use feet only.\n"
     ]
    }
   ],
   "source": [
    "!rg -n '[^a-z]oo' regular_express.txt\n",
    "!rg -n '[^[:lower:]]oo' regular_express.txt"
   ]
  },
  {
   "cell_type": "code",
   "execution_count": 7,
   "metadata": {},
   "outputs": [
    {
     "name": "stdout",
     "output_type": "stream",
     "text": [
      "5:However, this dress is about $ 3183 dollars.\n",
      "15:You are the best is mean you are the no. 1.\n",
      "5:However, this dress is about $ 3183 dollars.\n",
      "15:You are the best is mean you are the no. 1.\n"
     ]
    }
   ],
   "source": [
    "# 匹配所有的数字\n",
    "!grep -n '[0-9]' regular_express.txt\n",
    "!grep -n '[[:digit:]]' regular_express.txt"
   ]
  },
  {
   "cell_type": "code",
   "execution_count": 8,
   "metadata": {},
   "outputs": [
    {
     "name": "stdout",
     "output_type": "stream",
     "text": [
      "12:the symbol '*' is represented as start.\n"
     ]
    }
   ],
   "source": [
    "# 如果^字符串在[]里，指排除这些字符\n",
    "# 如果^字符串直接出现，表示定位符行首\n",
    "# $字符串为行尾\n",
    "# 定位行首的\"the\"字符串\n",
    "!grep -n '^the' regular_express.txt"
   ]
  },
  {
   "cell_type": "code",
   "execution_count": 9,
   "metadata": {},
   "outputs": [
    {
     "name": "stdout",
     "output_type": "stream",
     "text": [
      "2:apple is my favorite food.\n",
      "4:this dress doesn't fit me.\n",
      "10:motorcycle is cheap than car.\n",
      "12:the symbol '*' is represented as start.\n",
      "18:google is the best tools for search keyword.\n",
      "19:goooooogle yes!\n",
      "20:go! go! Let's go.\n",
      "2:apple is my favorite food.\n",
      "4:this dress doesn't fit me.\n",
      "10:motorcycle is cheap than car.\n",
      "12:the symbol '*' is represented as start.\n",
      "18:google is the best tools for search keyword.\n",
      "19:goooooogle yes!\n",
      "20:go! go! Let's go.\n"
     ]
    }
   ],
   "source": [
    "# 定位行首为小写字母的行\n",
    "!grep -n '^[a-z]' regular_express.txt\n",
    "!grep -n '^[[:lower:]]' regular_express.txt"
   ]
  },
  {
   "cell_type": "code",
   "execution_count": 10,
   "metadata": {},
   "outputs": [
    {
     "name": "stdout",
     "output_type": "stream",
     "text": [
      "1:\"Open Source\" is a good mechanism to develop programs.\n",
      "21:# I am VBird\n",
      "1:\"Open Source\" is a good mechanism to develop programs.\n",
      "21:# I am VBird\n"
     ]
    }
   ],
   "source": [
    "# 定位行首为非字母的\n",
    "!grep -n '^[^a-zA-Z]' regular_express.txt\n",
    "!grep -n '^[^[:alpha:]]' regular_express.txt"
   ]
  },
  {
   "cell_type": "code",
   "execution_count": 11,
   "metadata": {},
   "outputs": [
    {
     "name": "stdout",
     "output_type": "stream",
     "text": [
      "1:\"Open Source\" is a good mechanism to develop programs.\n",
      "2:apple is my favorite food.\n",
      "3:Football game is not use feet only.\n",
      "4:this dress doesn't fit me.\n",
      "10:motorcycle is cheap than car.\n",
      "11:This window is clear.\n",
      "12:the symbol '*' is represented as start.\n",
      "15:You are the best is mean you are the no. 1.\n",
      "16:The world <Happy> is the same with \"glad\".\n",
      "17:I like dog.\n",
      "18:google is the best tools for search keyword.\n",
      "20:go! go! Let's go.\n",
      "21:# I am VBird\n"
     ]
    }
   ],
   "source": [
    "# 定位行尾为.字符串的。.字符在regex中有其他意思，必须转义\n",
    "# $字符对于以CRLF结尾的字符串无效，因为其实际上是 . CR $ 三个字符\n",
    "!grep -n '\\.$' regular_express.txt\n",
    "# 定位行尾为字母的行\n",
    "!grep -n '[[:alpha:]]$' regular_express.txt"
   ]
  },
  {
   "cell_type": "code",
   "execution_count": 12,
   "metadata": {},
   "outputs": [
    {
     "name": "stdout",
     "output_type": "stream",
     "text": [
      "22:\n"
     ]
    }
   ],
   "source": [
    "!grep -n '^$' regular_express.txt"
   ]
  },
  {
   "cell_type": "code",
   "execution_count": 16,
   "metadata": {},
   "outputs": [
    {
     "name": "stdout",
     "output_type": "stream",
     "text": [
      "1:\"Open Source\" is a good mechanism to develop programs.\n",
      "9:Oh! The soup taste good.\n",
      "16:The world <Happy> is the same with \"glad\".\n",
      "1:\"Open Source\" is a good mechanism to develop programs.\n",
      "9:Oh! The soup taste good.\n",
      "13:Oh!\tMy god!\n",
      "14:The gd software is a library for drafting programs.\n",
      "16:The world <Happy> is the same with \"glad\".\n",
      "18:google is the best tools for search keyword.\n"
     ]
    }
   ],
   "source": [
    "# regex中: *字符代表重复前一个字符0-无穷次，.字符表示匹配任意一个字符，但是必须有一个字符\n",
    "# 匹配g??d\n",
    "# 确定只匹配四个字符\n",
    "!grep -n 'g..d' regular_express.txt \n",
    "# 匹配g和d中无穷个字符\n",
    "!grep -n 'g.*d' regular_express.txt "
   ]
  },
  {
   "cell_type": "code",
   "execution_count": 17,
   "metadata": {},
   "outputs": [
    {
     "name": "stdout",
     "output_type": "stream",
     "text": [
      "1:\"Open Source\" is a good mechanism to develop programs.\n",
      "9:Oh! The soup taste good.\n"
     ]
    }
   ],
   "source": [
    "# 匹配g?d，其中至少两个oo\n",
    "!grep -n 'gooo*d' regular_express.txt \n"
   ]
  },
  {
   "cell_type": "code",
   "execution_count": 19,
   "metadata": {},
   "outputs": [
    {
     "name": "stdout",
     "output_type": "stream",
     "text": [
      "18:google is the best tools for search keyword.\n",
      "18:google is the best tools for search keyword.\n",
      "19:goooooogle yes!\n"
     ]
    }
   ],
   "source": [
    "#限定多少个o\n",
    "# 寻找go{2,5}g个\n",
    "!grep -n 'go\\{2,5\\}g'  regular_express.txt\n",
    "# 寻找至少两个o的goo?g的字符串\n",
    "!grep -n 'go\\{2,\\}g'  regular_express.txt"
   ]
  },
  {
   "cell_type": "markdown",
   "metadata": {},
   "source": [
    "扩充正则表达式"
   ]
  },
  {
   "cell_type": "code",
   "execution_count": 29,
   "metadata": {},
   "outputs": [
    {
     "name": "stdout",
     "output_type": "stream",
     "text": [
      "1:\"Open Source\" is a good mechanism to develop programs.\n",
      "9:Oh! The soup taste good.\n",
      "16:The world <Happy> is the same with \"glad\".\n",
      "\u001b[0m\u001b[32m1\u001b[0m:\"Open Source\" is a \u001b[0m\u001b[1m\u001b[31mgood\u001b[0m mechanism to develop programs.\n",
      "\u001b[0m\u001b[32m9\u001b[0m:Oh! The soup taste \u001b[0m\u001b[1m\u001b[31mgood\u001b[0m.\n",
      "\u001b[0m\u001b[32m16\u001b[0m:The world <Happy> is the same with \"\u001b[0m\u001b[1m\u001b[31mglad\u001b[0m\".\n"
     ]
    }
   ],
   "source": [
    "# 搜索glad或者good，并放到第一个分组\n",
    "!grep -E -n 'g(la|oo)d'  regular_express.txt\n",
    "# rg 默认支持\n",
    "!rg -n 'g(la|oo)d'  regular_express.txt"
   ]
  },
  {
   "cell_type": "code",
   "execution_count": 30,
   "metadata": {},
   "outputs": [
    {
     "name": "stdout",
     "output_type": "stream",
     "text": [
      "1:\"Open Source\" is a good mechanism to develop programs.\n",
      "9:Oh! The soup taste good.\n",
      "13:Oh!\tMy god!\n",
      "\u001b[0m\u001b[32m1\u001b[0m:\"Open Source\" is a \u001b[0m\u001b[1m\u001b[31mgood\u001b[0m mechanism to develop programs.\n",
      "\u001b[0m\u001b[32m9\u001b[0m:Oh! The soup taste \u001b[0m\u001b[1m\u001b[31mgood\u001b[0m.\n",
      "\u001b[0m\u001b[32m13\u001b[0m:Oh!\tMy \u001b[0m\u001b[1m\u001b[31mgod\u001b[0m!\n"
     ]
    }
   ],
   "source": [
    "# +号表示至少一个，*号表示0或无穷\n",
    "!grep -E  -n 'go+d'  regular_express.txt #支持god,good,gooooooood\n",
    "!rg -n 'go+d'  regular_express.txt #支持god,good,gooooooood"
   ]
  },
  {
   "cell_type": "code",
   "execution_count": 31,
   "metadata": {},
   "outputs": [
    {
     "name": "stdout",
     "output_type": "stream",
     "text": [
      "13:Oh!\tMy god!\n",
      "14:The gd software is a library for drafting programs.\n",
      "\u001b[0m\u001b[32m13\u001b[0m:Oh!\tMy \u001b[0m\u001b[1m\u001b[31mgod\u001b[0m!\n",
      "\u001b[0m\u001b[32m14\u001b[0m:The \u001b[0m\u001b[1m\u001b[31mgd\u001b[0m software is a library for drafting programs.\n"
     ]
    }
   ],
   "source": [
    "# ? 表示0个或者1个\n",
    "!grep -E  -n 'go?d'  regular_express.txt #支持god,good,gooooooood\n",
    "!rg -n 'go?d'  regular_express.txt #支持god,good,gooooooood"
   ]
  },
  {
   "cell_type": "code",
   "execution_count": 32,
   "metadata": {},
   "outputs": [
    {
     "name": "stdout",
     "output_type": "stream",
     "text": [
      "\u001b[0m\u001b[32m1\u001b[0m:\"Open Source\" is a \u001b[0m\u001b[1m\u001b[31mgood\u001b[0m mechanism to develop programs.\n",
      "\u001b[0m\u001b[32m9\u001b[0m:Oh! The soup taste \u001b[0m\u001b[1m\u001b[31mgood\u001b[0m.\n"
     ]
    }
   ],
   "source": [
    "!rg -n 'g(oo)+d'  regular_express.txt #支持偶数个o的匹配"
   ]
  }
 ],
 "metadata": {
  "interpreter": {
   "hash": "daeac234049cbba550d46e30d8f23ca3d40aabac77615076a385bf55df6fb7fd"
  },
  "kernelspec": {
   "display_name": "Python 3.10.4 64-bit",
   "language": "python",
   "name": "python3"
  },
  "language_info": {
   "codemirror_mode": {
    "name": "ipython",
    "version": 3
   },
   "file_extension": ".py",
   "mimetype": "text/x-python",
   "name": "python",
   "nbconvert_exporter": "python",
   "pygments_lexer": "ipython3",
   "version": "3.8.10"
  },
  "orig_nbformat": 4
 },
 "nbformat": 4,
 "nbformat_minor": 2
}
