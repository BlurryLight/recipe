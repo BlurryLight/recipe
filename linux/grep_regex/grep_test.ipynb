{
 "cells": [
  {
   "cell_type": "code",
   "execution_count": 1,
   "metadata": {},
   "outputs": [
    {
     "name": "stdout",
     "output_type": "stream",
     "text": [
      "8:I can't finish the test.\n",
      "12:the symbol '*' is represented as start.\n",
      "15:You are the best is mean you are the no. 1.\n",
      "16:The world <Happy> is the same with \"glad\".\n",
      "18:google is the best tools for search keyword.\n"
     ]
    }
   ],
   "source": [
    "!grep -n 'the' regular_express.txt"
   ]
  },
  {
   "cell_type": "code",
   "execution_count": 2,
   "metadata": {},
   "outputs": [
    {
     "name": "stdout",
     "output_type": "stream",
     "text": [
      "1:\"Open Source\" is a good mechanism to develop programs.\n",
      "2:apple is my favorite food.\n",
      "3:Football game is not use feet only.\n",
      "4:this dress doesn't fit me.\n",
      "5:However, this dress is about $ 3183 dollars.\n",
      "6:GNU is free air not free beer.\n",
      "7:Her hair is very beauty.\n",
      "9:Oh! The soup taste good.\n",
      "10:motorcycle is cheap than car.\n",
      "11:This window is clear.\n",
      "13:Oh!\tMy god!\n",
      "14:The gd software is a library for drafting programs.\n",
      "17:I like dog.\n",
      "19:goooooogle yes!\n",
      "20:go! go! Let's go.\n",
      "21:# I am VBird\n",
      "22:\n"
     ]
    }
   ],
   "source": [
    "!grep -vn 'the' regular_express.txt"
   ]
  },
  {
   "cell_type": "code",
   "execution_count": 4,
   "metadata": {},
   "outputs": [
    {
     "name": "stdout",
     "output_type": "stream",
     "text": [
      "8:I can't finish the test.\n",
      "9:Oh! The soup taste good.\n"
     ]
    }
   ],
   "source": [
    "# grep t[ae]st 允许tast或者test. []选取其中的一个字符匹配\n",
    "!grep -n 't[ae]st' regular_express.txt "
   ]
  },
  {
   "cell_type": "code",
   "execution_count": 11,
   "metadata": {},
   "outputs": [
    {
     "name": "stdout",
     "output_type": "stream",
     "text": [
      "2:apple is my favorite food.\n",
      "3:Football game is not use feet only.\n",
      "18:google is the best tools for search keyword.\n",
      "19:goooooogle yes!\n"
     ]
    }
   ],
   "source": [
    "# 搜索两个oo，但是前面不能为g字符。\n",
    "# goooogle可以通过是因为g ooo oogle这种可以通过匹配\n",
    "!grep -n '[^g]oo' regular_express.txt"
   ]
  },
  {
   "cell_type": "code",
   "execution_count": 19,
   "metadata": {},
   "outputs": [
    {
     "name": "stdout",
     "output_type": "stream",
     "text": [
      "3:Football game is not use feet only.\n",
      "3:Football game is not use feet only.\n"
     ]
    }
   ],
   "source": [
    "# 禁止oo前出现小写字母\n",
    "!grep -n '[^a-z]oo' regular_express.txt\n",
    "!grep -n '[^[:lower:]]oo' regular_express.txt"
   ]
  },
  {
   "cell_type": "code",
   "execution_count": 16,
   "metadata": {},
   "outputs": [
    {
     "name": "stdout",
     "output_type": "stream",
     "text": [
      "5:However, this dress is about $ 3183 dollars.\n",
      "15:You are the best is mean you are the no. 1.\n",
      "5:However, this dress is about $ 3183 dollars.\n",
      "15:You are the best is mean you are the no. 1.\n"
     ]
    }
   ],
   "source": [
    "# 匹配所有的数字\n",
    "!grep -n '[0-9]' regular_express.txt\n",
    "!grep -n '[[:digit:]]' regular_express.txt"
   ]
  },
  {
   "cell_type": "code",
   "execution_count": 20,
   "metadata": {},
   "outputs": [
    {
     "name": "stdout",
     "output_type": "stream",
     "text": [
      "12:the symbol '*' is represented as start.\n"
     ]
    }
   ],
   "source": [
    "# 如果^字符串在[]里，指排除这些字符\n",
    "# 如果^字符串直接出现，表示定位符行首\n",
    "# $字符串为行尾\n",
    "# 定位行首的\"the\"字符串\n",
    "!grep -n '^the' regular_express.txt"
   ]
  },
  {
   "cell_type": "code",
   "execution_count": 21,
   "metadata": {},
   "outputs": [
    {
     "name": "stdout",
     "output_type": "stream",
     "text": [
      "2:apple is my favorite food.\n",
      "4:this dress doesn't fit me.\n",
      "10:motorcycle is cheap than car.\n",
      "12:the symbol '*' is represented as start.\n",
      "18:google is the best tools for search keyword.\n",
      "19:goooooogle yes!\n",
      "20:go! go! Let's go.\n",
      "2:apple is my favorite food.\n",
      "4:this dress doesn't fit me.\n",
      "10:motorcycle is cheap than car.\n",
      "12:the symbol '*' is represented as start.\n",
      "18:google is the best tools for search keyword.\n",
      "19:goooooogle yes!\n",
      "20:go! go! Let's go.\n"
     ]
    }
   ],
   "source": [
    "# 定位行首为小写字母的行\n",
    "!grep -n '^[a-z]' regular_express.txt\n",
    "!grep -n '^[[:lower:]]' regular_express.txt"
   ]
  },
  {
   "cell_type": "code",
   "execution_count": 23,
   "metadata": {},
   "outputs": [
    {
     "name": "stdout",
     "output_type": "stream",
     "text": [
      "1:\"Open Source\" is a good mechanism to develop programs.\n",
      "21:# I am VBird\n",
      "1:\"Open Source\" is a good mechanism to develop programs.\n",
      "21:# I am VBird\n"
     ]
    }
   ],
   "source": [
    "# 定位行首为非字母的\n",
    "!grep -n '^[^a-zA-Z]' regular_express.txt\n",
    "!grep -n '^[^[:alpha:]]' regular_express.txt"
   ]
  },
  {
   "cell_type": "code",
   "execution_count": 26,
   "metadata": {},
   "outputs": [
    {
     "name": "stdout",
     "output_type": "stream",
     "text": [
      "1:\"Open Source\" is a good mechanism to develop programs.\n",
      "2:apple is my favorite food.\n",
      "3:Football game is not use feet only.\n",
      "4:this dress doesn't fit me.\n",
      "10:motorcycle is cheap than car.\n",
      "11:This window is clear.\n",
      "12:the symbol '*' is represented as start.\n",
      "15:You are the best is mean you are the no. 1.\n",
      "16:The world <Happy> is the same with \"glad\".\n",
      "17:I like dog.\n",
      "18:google is the best tools for search keyword.\n",
      "20:go! go! Let's go.\n",
      "21:# I am VBird\n"
     ]
    }
   ],
   "source": [
    "# 定位行尾为.字符串的。.字符在regex中有其他意思，必须转义\n",
    "!grep -n '\\.$' regular_express.txt\n",
    "# 定位行尾为字母的行\n",
    "!grep -n '[[:alpha:]]$' regular_express.txt"
   ]
  }
 ],
 "metadata": {
  "interpreter": {
   "hash": "daeac234049cbba550d46e30d8f23ca3d40aabac77615076a385bf55df6fb7fd"
  },
  "kernelspec": {
   "display_name": "Python 3.10.4 64-bit",
   "language": "python",
   "name": "python3"
  },
  "language_info": {
   "codemirror_mode": {
    "name": "ipython",
    "version": 3
   },
   "file_extension": ".py",
   "mimetype": "text/x-python",
   "name": "python",
   "nbconvert_exporter": "python",
   "pygments_lexer": "ipython3",
   "version": "3.8.10"
  },
  "orig_nbformat": 4
 },
 "nbformat": 4,
 "nbformat_minor": 2
}
